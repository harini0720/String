{
  "nbformat": 4,
  "nbformat_minor": 0,
  "metadata": {
    "colab": {
      "provenance": []
    },
    "kernelspec": {
      "name": "python3",
      "display_name": "Python 3"
    },
    "language_info": {
      "name": "python"
    }
  },
  "cells": [
    {
      "cell_type": "code",
      "source": [
        "what is  string\n",
        " in python ,a string is a data type used to represent text rather than numbers.\n",
        "  string is a sequence of characters, such as letter,digits,symbols and spaces.\n",
        "  enclosed in single quotes('),double quotes(\") or triple quotes\n",
        "  for multi-line strings.\n",
        "  EXAMPLES:\n",
        " . \"hello world\"\n",
        " . '123456780'\n",
        " . \" python programming\"\n",
        " . a=\"my name is harini\"\n",
        " .ex= \"i am from ap\"\n",
        " example program;-"
      ],
      "metadata": {
        "id": "3KQmJi3U1Ofj"
      },
      "execution_count": null,
      "outputs": []
    },
    {
      "cell_type": "code",
      "source": [
        "h=\"data science\"\n",
        "i='hello world'\n",
        "type(h)"
      ],
      "metadata": {
        "colab": {
          "base_uri": "https://localhost:8080/"
        },
        "id": "Cmrn8VzS438F",
        "outputId": "bcc08fd1-d9b6-4437-e48e-68f4465737b3"
      },
      "execution_count": 1,
      "outputs": [
        {
          "output_type": "execute_result",
          "data": {
            "text/plain": [
              "str"
            ]
          },
          "metadata": {},
          "execution_count": 1
        }
      ]
    },
    {
      "cell_type": "markdown",
      "source": [
        "STRING FORMAT METHODS:\n",
        "*format method()- more traditional way of formatting strings"
      ],
      "metadata": {
        "id": "lIAqGN6N5qYZ"
      }
    },
    {
      "cell_type": "code",
      "source": [
        "name=\"harini\"\n",
        "age=21\n",
        "print('my name is {} and i am {} age' .format(name,age))"
      ],
      "metadata": {
        "colab": {
          "base_uri": "https://localhost:8080/"
        },
        "id": "40nKGJcZ6g-j",
        "outputId": "a3e64852-0d35-49bf-cd3a-2e34d5388aaa"
      },
      "execution_count": 5,
      "outputs": [
        {
          "output_type": "stream",
          "name": "stdout",
          "text": [
            "my name is harini and i am 21 age\n"
          ]
        }
      ]
    },
    {
      "cell_type": "code",
      "source": [
        "a=\"teks academy\"\n",
        "b=\"data science\"\n",
        "print('harini joined {} to take {} coaching'.format(a,b))"
      ],
      "metadata": {
        "colab": {
          "base_uri": "https://localhost:8080/"
        },
        "id": "6H7UUq598UMO",
        "outputId": "613376bd-64f6-4381-e2a2-4a14550cb450"
      },
      "execution_count": 7,
      "outputs": [
        {
          "output_type": "stream",
          "name": "stdout",
          "text": [
            "harini joined teks academy to take data science coaching\n"
          ]
        }
      ]
    },
    {
      "cell_type": "code",
      "source": [
        "name=\"harini\"\n",
        "location=\"east godavari\"\n",
        "print('my name is {} and i am from {}'.format(name,location))"
      ],
      "metadata": {
        "colab": {
          "base_uri": "https://localhost:8080/"
        },
        "id": "H2RVkbGK-KUh",
        "outputId": "c6cde141-67de-40e9-dcb1-2d3c0fb1e513"
      },
      "execution_count": 8,
      "outputs": [
        {
          "output_type": "stream",
          "name": "stdout",
          "text": [
            "my name is harini and i am from east godavari\n"
          ]
        }
      ]
    },
    {
      "cell_type": "code",
      "source": [
        "name=\"ruthu\"\n",
        "age=21\n",
        "print('my name is {} and i am {} age'.format(name,age))"
      ],
      "metadata": {
        "colab": {
          "base_uri": "https://localhost:8080/"
        },
        "id": "_WxhKtVr-7AC",
        "outputId": "7c491bee-4f6c-450e-ee88-6e165f2514f7"
      },
      "execution_count": 10,
      "outputs": [
        {
          "output_type": "stream",
          "name": "stdout",
          "text": [
            "my name is ruthu and i am 21 age\n"
          ]
        }
      ]
    },
    {
      "cell_type": "code",
      "source": [
        "h=\"sanskrit\"\n",
        "k=95\n",
        "print('harini completed {} exam and scored {} marks'.format(h,k))"
      ],
      "metadata": {
        "colab": {
          "base_uri": "https://localhost:8080/"
        },
        "id": "Dcn3nzkrAEYQ",
        "outputId": "4c392c1f-14e3-443b-d786-cddbbb67ebd5"
      },
      "execution_count": 11,
      "outputs": [
        {
          "output_type": "stream",
          "name": "stdout",
          "text": [
            "harini completed sanskrit exam and scored 95 marks\n"
          ]
        }
      ]
    },
    {
      "cell_type": "markdown",
      "source": [
        "f-string method: with string with letter f and using{} to embed variable"
      ],
      "metadata": {
        "id": "0qxyI8YvBf7R"
      }
    },
    {
      "cell_type": "code",
      "source": [
        "a=\"kiran\"\n",
        "b=15\n",
        "print(f'my name is {a} and i am {b} old')"
      ],
      "metadata": {
        "colab": {
          "base_uri": "https://localhost:8080/"
        },
        "id": "XIMJlAtTB8qQ",
        "outputId": "66d61da7-7201-47b3-e484-6b3ea067a7b0"
      },
      "execution_count": 3,
      "outputs": [
        {
          "output_type": "stream",
          "name": "stdout",
          "text": [
            "my name is kiran and i am 15 old\n"
          ]
        }
      ]
    },
    {
      "cell_type": "code",
      "source": [
        "c=\"vasmi\"\n",
        "d=\"data analytics\"\n",
        "print(f'{c} sir is {d} trainer')"
      ],
      "metadata": {
        "colab": {
          "base_uri": "https://localhost:8080/"
        },
        "id": "43m9J0C6LYag",
        "outputId": "8090d27f-106f-4fd4-a5cd-5efa048435e3"
      },
      "execution_count": 5,
      "outputs": [
        {
          "output_type": "stream",
          "name": "stdout",
          "text": [
            "vasmi sir is data analytics trainer\n"
          ]
        }
      ]
    },
    {
      "cell_type": "code",
      "source": [
        "hello=\"inter\"\n",
        "world=99\n",
        "print(f'complete my {hello} with {world} percentage')"
      ],
      "metadata": {
        "colab": {
          "base_uri": "https://localhost:8080/"
        },
        "id": "wB1XwRWMMEK-",
        "outputId": "63a4fa20-3da5-4e32-b1b9-bc7a1780d659"
      },
      "execution_count": 7,
      "outputs": [
        {
          "output_type": "stream",
          "name": "stdout",
          "text": [
            "complete my inter with 99 percentage\n"
          ]
        }
      ]
    },
    {
      "cell_type": "code",
      "source": [
        "i=\"example\"\n",
        "j=\"f-string\"\n",
        "print(f'these are {i} of {j} method')"
      ],
      "metadata": {
        "colab": {
          "base_uri": "https://localhost:8080/"
        },
        "id": "XTr2hCDkMtoO",
        "outputId": "ca4bd4f2-5ec8-4854-d88e-76c9e544a693"
      },
      "execution_count": 8,
      "outputs": [
        {
          "output_type": "stream",
          "name": "stdout",
          "text": [
            "these are example of f-string method\n"
          ]
        }
      ]
    },
    {
      "cell_type": "code",
      "source": [
        "a=\"avanthi\"\n",
        "b=\"narayanaguda\"\n",
        "print(f'i am studing {a} degree college at {b}')"
      ],
      "metadata": {
        "colab": {
          "base_uri": "https://localhost:8080/"
        },
        "id": "0Qi4qONZNLFK",
        "outputId": "cce7e140-f73f-40fe-b356-1e32deccec91"
      },
      "execution_count": 9,
      "outputs": [
        {
          "output_type": "stream",
          "name": "stdout",
          "text": [
            "i am studing avanthi degree college at narayanaguda\n"
          ]
        }
      ]
    },
    {
      "cell_type": "markdown",
      "source": [
        "INDEX\n",
        "postive index:staring at index 0 ,from left to right.\n",
        "negative index: index -1 for the last character ,from right to left\n"
      ],
      "metadata": {
        "id": "OMkOuTisN0IZ"
      }
    },
    {
      "cell_type": "code",
      "source": [
        "word=\"data science\"\n",
        "word[7]"
      ],
      "metadata": {
        "colab": {
          "base_uri": "https://localhost:8080/",
          "height": 36
        },
        "id": "F5Jr1zPhO0SN",
        "outputId": "9c884c9e-4c4e-4d44-d588-8d911d14647b"
      },
      "execution_count": 10,
      "outputs": [
        {
          "output_type": "execute_result",
          "data": {
            "text/plain": [
              "'i'"
            ],
            "application/vnd.google.colaboratory.intrinsic+json": {
              "type": "string"
            }
          },
          "metadata": {},
          "execution_count": 10
        }
      ]
    },
    {
      "cell_type": "code",
      "source": [
        "word[0]"
      ],
      "metadata": {
        "colab": {
          "base_uri": "https://localhost:8080/",
          "height": 36
        },
        "id": "cdjnOCXVQs43",
        "outputId": "2a8e8db0-0c47-4f30-d4ea-1408e7244030"
      },
      "execution_count": 12,
      "outputs": [
        {
          "output_type": "execute_result",
          "data": {
            "text/plain": [
              "'d'"
            ],
            "application/vnd.google.colaboratory.intrinsic+json": {
              "type": "string"
            }
          },
          "metadata": {},
          "execution_count": 12
        }
      ]
    },
    {
      "cell_type": "code",
      "source": [
        "word[-4]"
      ],
      "metadata": {
        "colab": {
          "base_uri": "https://localhost:8080/",
          "height": 36
        },
        "id": "JbnSjdALQZ9t",
        "outputId": "0118d311-8033-4c60-a2fb-956d14dc5ee6"
      },
      "execution_count": 11,
      "outputs": [
        {
          "output_type": "execute_result",
          "data": {
            "text/plain": [
              "'e'"
            ],
            "application/vnd.google.colaboratory.intrinsic+json": {
              "type": "string"
            }
          },
          "metadata": {},
          "execution_count": 11
        }
      ]
    },
    {
      "cell_type": "code",
      "source": [
        "hello=\"apple\"\n",
        "hello[2]"
      ],
      "metadata": {
        "colab": {
          "base_uri": "https://localhost:8080/",
          "height": 36
        },
        "id": "hcmmuUWFQ-Iy",
        "outputId": "26f7edae-aea0-4d03-d6e0-7b88da477b10"
      },
      "execution_count": 14,
      "outputs": [
        {
          "output_type": "execute_result",
          "data": {
            "text/plain": [
              "'p'"
            ],
            "application/vnd.google.colaboratory.intrinsic+json": {
              "type": "string"
            }
          },
          "metadata": {},
          "execution_count": 14
        }
      ]
    },
    {
      "cell_type": "code",
      "source": [
        "hello[-1]"
      ],
      "metadata": {
        "colab": {
          "base_uri": "https://localhost:8080/",
          "height": 36
        },
        "id": "8q2orFGPROVx",
        "outputId": "83e7582e-a908-4642-f347-08fa7bc47405"
      },
      "execution_count": 16,
      "outputs": [
        {
          "output_type": "execute_result",
          "data": {
            "text/plain": [
              "'e'"
            ],
            "application/vnd.google.colaboratory.intrinsic+json": {
              "type": "string"
            }
          },
          "metadata": {},
          "execution_count": 16
        }
      ]
    },
    {
      "cell_type": "markdown",
      "source": [
        "slicing:"
      ],
      "metadata": {
        "id": "TW6YHl0TRmTF"
      }
    },
    {
      "cell_type": "code",
      "source": [
        "word[0:5]"
      ],
      "metadata": {
        "colab": {
          "base_uri": "https://localhost:8080/",
          "height": 36
        },
        "id": "o8XcCboQRqAh",
        "outputId": "abff3b9c-97db-4190-cc31-17302260239b"
      },
      "execution_count": 18,
      "outputs": [
        {
          "output_type": "execute_result",
          "data": {
            "text/plain": [
              "'data '"
            ],
            "application/vnd.google.colaboratory.intrinsic+json": {
              "type": "string"
            }
          },
          "metadata": {},
          "execution_count": 18
        }
      ]
    },
    {
      "cell_type": "code",
      "source": [
        "b=\"my i am studying data science\"\n",
        "b[4:9]"
      ],
      "metadata": {
        "colab": {
          "base_uri": "https://localhost:8080/",
          "height": 36
        },
        "id": "-e5qqyQuR5XQ",
        "outputId": "af852937-401d-4a21-98ca-8f5b2543db99"
      },
      "execution_count": 19,
      "outputs": [
        {
          "output_type": "execute_result",
          "data": {
            "text/plain": [
              "' am s'"
            ],
            "application/vnd.google.colaboratory.intrinsic+json": {
              "type": "string"
            }
          },
          "metadata": {},
          "execution_count": 19
        }
      ]
    },
    {
      "cell_type": "code",
      "source": [
        "b[3:6]"
      ],
      "metadata": {
        "colab": {
          "base_uri": "https://localhost:8080/",
          "height": 36
        },
        "id": "pTZhmhSzSOwz",
        "outputId": "8d0ba54e-5474-46cf-9608-68a5b59106eb"
      },
      "execution_count": 20,
      "outputs": [
        {
          "output_type": "execute_result",
          "data": {
            "text/plain": [
              "'i a'"
            ],
            "application/vnd.google.colaboratory.intrinsic+json": {
              "type": "string"
            }
          },
          "metadata": {},
          "execution_count": 20
        }
      ]
    },
    {
      "cell_type": "markdown",
      "source": [
        "how to add two strings:\n"
      ],
      "metadata": {
        "id": "-2IYKw0iSeLJ"
      }
    },
    {
      "cell_type": "code",
      "source": [
        "str2=\"Hello\"\n",
        "str1=\"Everyone\"\n",
        "add=str2+str1\n",
        "print(add)"
      ],
      "metadata": {
        "colab": {
          "base_uri": "https://localhost:8080/"
        },
        "id": "d3CkBqEhSoQo",
        "outputId": "ef9d346e-d1ae-4c02-e45d-9939fb09ee05"
      },
      "execution_count": 22,
      "outputs": [
        {
          "output_type": "stream",
          "name": "stdout",
          "text": [
            "HelloEveryone\n"
          ]
        }
      ]
    },
    {
      "cell_type": "code",
      "source": [
        "a=\"python\"\n",
        "b=\" is  high level programing language\"\n",
        "add=a+b\n",
        "print(a+b)"
      ],
      "metadata": {
        "colab": {
          "base_uri": "https://localhost:8080/"
        },
        "id": "ApBbW9y1TbLT",
        "outputId": "5b65671a-2215-4e69-b550-4171c63b8ae6"
      },
      "execution_count": 25,
      "outputs": [
        {
          "output_type": "stream",
          "name": "stdout",
          "text": [
            "python is  high level programing language\n"
          ]
        }
      ]
    },
    {
      "cell_type": "markdown",
      "source": [
        "*concatenation:-"
      ],
      "metadata": {
        "id": "sz1ZiwV-UFzy"
      }
    },
    {
      "cell_type": "code",
      "source": [
        "y=\"hello everyone\"\n",
        "y*3"
      ],
      "metadata": {
        "colab": {
          "base_uri": "https://localhost:8080/",
          "height": 36
        },
        "id": "ZuJpk_YfUizz",
        "outputId": "0a8903a3-15e0-4cd0-a97a-40ca3feaa6fd"
      },
      "execution_count": 27,
      "outputs": [
        {
          "output_type": "execute_result",
          "data": {
            "text/plain": [
              "'hello everyonehello everyonehello everyone'"
            ],
            "application/vnd.google.colaboratory.intrinsic+json": {
              "type": "string"
            }
          },
          "metadata": {},
          "execution_count": 27
        }
      ]
    },
    {
      "cell_type": "code",
      "source": [
        "b=\"good morning hyderabad\"\n",
        "b*2"
      ],
      "metadata": {
        "colab": {
          "base_uri": "https://localhost:8080/",
          "height": 36
        },
        "id": "LIpFlyFaU2Rs",
        "outputId": "c1d13e55-ef98-44fc-8ca3-f9710d352353"
      },
      "execution_count": 28,
      "outputs": [
        {
          "output_type": "execute_result",
          "data": {
            "text/plain": [
              "'good morning hyderabadgood morning hyderabad'"
            ],
            "application/vnd.google.colaboratory.intrinsic+json": {
              "type": "string"
            }
          },
          "metadata": {},
          "execution_count": 28
        }
      ]
    },
    {
      "cell_type": "code",
      "source": [
        "h=\"welcome my dear students\"\n",
        "h*6"
      ],
      "metadata": {
        "colab": {
          "base_uri": "https://localhost:8080/",
          "height": 36
        },
        "id": "R9fsqkKjVB77",
        "outputId": "67548257-902c-4998-db32-162d8ca58d0f"
      },
      "execution_count": 29,
      "outputs": [
        {
          "output_type": "execute_result",
          "data": {
            "text/plain": [
              "'welcome my dear studentswelcome my dear studentswelcome my dear studentswelcome my dear studentswelcome my dear studentswelcome my dear students'"
            ],
            "application/vnd.google.colaboratory.intrinsic+json": {
              "type": "string"
            }
          },
          "metadata": {},
          "execution_count": 29
        }
      ]
    },
    {
      "cell_type": "markdown",
      "source": [
        "# string methods or functions\n",
        ".*upper():covert all characters to uppercase.\n",
        ".*lower():covert all characters in to lowecase.\n",
        ".*len():no.of characters in words or length of character.\n",
        ".*split():it will split intered string in list.\n",
        ".*join():join the element in to string.\n",
        ".*strip():Removes leading and trailing whitespace from the string."
      ],
      "metadata": {
        "id": "u3cqz40TVLnD"
      }
    },
    {
      "cell_type": "markdown",
      "source": [
        "upper()"
      ],
      "metadata": {
        "id": "hX8M3Skba3QG"
      }
    },
    {
      "cell_type": "code",
      "source": [
        "a=\"python programming language\"\n",
        "a.upper()"
      ],
      "metadata": {
        "colab": {
          "base_uri": "https://localhost:8080/",
          "height": 36
        },
        "id": "A4i5gBjHZ_nk",
        "outputId": "01a207b3-ec01-44ee-abb6-b9a698d4a1ff"
      },
      "execution_count": 1,
      "outputs": [
        {
          "output_type": "execute_result",
          "data": {
            "text/plain": [
              "'PYTHON PROGRAMMING LANGUAGE'"
            ],
            "application/vnd.google.colaboratory.intrinsic+json": {
              "type": "string"
            }
          },
          "metadata": {},
          "execution_count": 1
        }
      ]
    },
    {
      "cell_type": "code",
      "source": [
        "b=\"data science\"\n",
        "b.upper()"
      ],
      "metadata": {
        "colab": {
          "base_uri": "https://localhost:8080/",
          "height": 36
        },
        "id": "vRlpoqHCbzM6",
        "outputId": "2bb3b577-26b9-4555-ea9e-e49a2cbe221e"
      },
      "execution_count": 2,
      "outputs": [
        {
          "output_type": "execute_result",
          "data": {
            "text/plain": [
              "'DATA SCIENCE'"
            ],
            "application/vnd.google.colaboratory.intrinsic+json": {
              "type": "string"
            }
          },
          "metadata": {},
          "execution_count": 2
        }
      ]
    },
    {
      "cell_type": "code",
      "source": [
        "h=\"avanthi degree\"\n",
        "h.upper()"
      ],
      "metadata": {
        "colab": {
          "base_uri": "https://localhost:8080/",
          "height": 36
        },
        "id": "yvwyLPlMb645",
        "outputId": "84097e93-21bb-4524-b5bb-b29b9e94a5cb"
      },
      "execution_count": 3,
      "outputs": [
        {
          "output_type": "execute_result",
          "data": {
            "text/plain": [
              "'AVANTHI DEGREE'"
            ],
            "application/vnd.google.colaboratory.intrinsic+json": {
              "type": "string"
            }
          },
          "metadata": {},
          "execution_count": 3
        }
      ]
    },
    {
      "cell_type": "markdown",
      "source": [
        "lower()"
      ],
      "metadata": {
        "id": "S6FmZZrXdBiP"
      }
    },
    {
      "cell_type": "code",
      "source": [
        "low=\"DATA SCIENCE\"\n",
        "low.lower()"
      ],
      "metadata": {
        "colab": {
          "base_uri": "https://localhost:8080/",
          "height": 36
        },
        "id": "gRHmUgzsdAJR",
        "outputId": "564e32b6-c76d-49df-d5ce-2df0950ddd39"
      },
      "execution_count": 4,
      "outputs": [
        {
          "output_type": "execute_result",
          "data": {
            "text/plain": [
              "'data science'"
            ],
            "application/vnd.google.colaboratory.intrinsic+json": {
              "type": "string"
            }
          },
          "metadata": {},
          "execution_count": 4
        }
      ]
    },
    {
      "cell_type": "code",
      "source": [
        "c=\"teks acdemy\"\n",
        "c.lower()"
      ],
      "metadata": {
        "colab": {
          "base_uri": "https://localhost:8080/",
          "height": 36
        },
        "id": "fT3PP6LkdTm9",
        "outputId": "80c8f53c-132d-492b-8f19-f183107f3224"
      },
      "execution_count": 5,
      "outputs": [
        {
          "output_type": "execute_result",
          "data": {
            "text/plain": [
              "'teks acdemy'"
            ],
            "application/vnd.google.colaboratory.intrinsic+json": {
              "type": "string"
            }
          },
          "metadata": {},
          "execution_count": 5
        }
      ]
    },
    {
      "cell_type": "code",
      "source": [
        "b=\"java\"\n",
        "b.lower()"
      ],
      "metadata": {
        "colab": {
          "base_uri": "https://localhost:8080/",
          "height": 36
        },
        "id": "SSXHpBqDdh9I",
        "outputId": "cf39b321-4b12-4262-d346-b45315d09590"
      },
      "execution_count": 6,
      "outputs": [
        {
          "output_type": "execute_result",
          "data": {
            "text/plain": [
              "'java'"
            ],
            "application/vnd.google.colaboratory.intrinsic+json": {
              "type": "string"
            }
          },
          "metadata": {},
          "execution_count": 6
        }
      ]
    },
    {
      "cell_type": "code",
      "source": [
        "hello=\"harini\"\n",
        "hello.lower()"
      ],
      "metadata": {
        "colab": {
          "base_uri": "https://localhost:8080/",
          "height": 36
        },
        "id": "0yy8Z-_pdvOE",
        "outputId": "8a7dea3c-511b-4453-8f7a-8b3ea599cb11"
      },
      "execution_count": 7,
      "outputs": [
        {
          "output_type": "execute_result",
          "data": {
            "text/plain": [
              "'harini'"
            ],
            "application/vnd.google.colaboratory.intrinsic+json": {
              "type": "string"
            }
          },
          "metadata": {},
          "execution_count": 7
        }
      ]
    },
    {
      "cell_type": "markdown",
      "source": [
        "len()"
      ],
      "metadata": {
        "id": "IuMvU8Ird5V3"
      }
    },
    {
      "cell_type": "code",
      "source": [
        "world=\"data science\"\n",
        "len(world)"
      ],
      "metadata": {
        "colab": {
          "base_uri": "https://localhost:8080/"
        },
        "id": "_Dd7yXhPd471",
        "outputId": "633a7e2f-34a4-4e7f-e1c9-c936dc7bcab4"
      },
      "execution_count": 8,
      "outputs": [
        {
          "output_type": "execute_result",
          "data": {
            "text/plain": [
              "12"
            ]
          },
          "metadata": {},
          "execution_count": 8
        }
      ]
    },
    {
      "cell_type": "code",
      "source": [
        "hello=\"teks acdemy\"\n",
        "len(hello)"
      ],
      "metadata": {
        "colab": {
          "base_uri": "https://localhost:8080/"
        },
        "id": "78-h1ZxieZkB",
        "outputId": "4e6da2e5-a1ff-4f28-f582-715749b0a597"
      },
      "execution_count": 9,
      "outputs": [
        {
          "output_type": "execute_result",
          "data": {
            "text/plain": [
              "11"
            ]
          },
          "metadata": {},
          "execution_count": 9
        }
      ]
    },
    {
      "cell_type": "code",
      "source": [
        "d=\"python programming\"\n",
        "len(d)"
      ],
      "metadata": {
        "colab": {
          "base_uri": "https://localhost:8080/"
        },
        "id": "oOgR4dvFelRk",
        "outputId": "1cce7298-2f06-4698-c2f3-eb58b8e2f265"
      },
      "execution_count": 10,
      "outputs": [
        {
          "output_type": "execute_result",
          "data": {
            "text/plain": [
              "18"
            ]
          },
          "metadata": {},
          "execution_count": 10
        }
      ]
    },
    {
      "cell_type": "markdown",
      "source": [
        "split()"
      ],
      "metadata": {
        "id": "iHWrfdCHeyKE"
      }
    },
    {
      "cell_type": "code",
      "source": [
        "word=\"my name is harini and working as a data science student\"\n",
        "word.split()"
      ],
      "metadata": {
        "colab": {
          "base_uri": "https://localhost:8080/"
        },
        "id": "PIMp2GOEe-pU",
        "outputId": "4ab2ccd6-ffc2-4a68-89bc-9c3b3e44f3aa"
      },
      "execution_count": 11,
      "outputs": [
        {
          "output_type": "execute_result",
          "data": {
            "text/plain": [
              "['my',\n",
              " 'name',\n",
              " 'is',\n",
              " 'harini',\n",
              " 'and',\n",
              " 'working',\n",
              " 'as',\n",
              " 'a',\n",
              " 'data',\n",
              " 'science',\n",
              " 'student']"
            ]
          },
          "metadata": {},
          "execution_count": 11
        }
      ]
    },
    {
      "cell_type": "code",
      "source": [
        "a=\"hello everyone and good afternoon\"\n",
        "a.split()"
      ],
      "metadata": {
        "colab": {
          "base_uri": "https://localhost:8080/"
        },
        "id": "FC2YPxXofZ1q",
        "outputId": "8a37aece-a244-4e43-a620-d3266b80a61d"
      },
      "execution_count": 12,
      "outputs": [
        {
          "output_type": "execute_result",
          "data": {
            "text/plain": [
              "['hello', 'everyone', 'and', 'good', 'afternoon']"
            ]
          },
          "metadata": {},
          "execution_count": 12
        }
      ]
    },
    {
      "cell_type": "code",
      "source": [
        "b=\"we are learning python programming language in data science subject\"\n",
        "b.split()"
      ],
      "metadata": {
        "colab": {
          "base_uri": "https://localhost:8080/"
        },
        "id": "GHPMLtOTftAE",
        "outputId": "9d74ea1c-3b15-4394-89ee-a2c6aa9e0d33"
      },
      "execution_count": 13,
      "outputs": [
        {
          "output_type": "execute_result",
          "data": {
            "text/plain": [
              "['we',\n",
              " 'are',\n",
              " 'learning',\n",
              " 'python',\n",
              " 'programming',\n",
              " 'language',\n",
              " 'in',\n",
              " 'data',\n",
              " 'science',\n",
              " 'subject']"
            ]
          },
          "metadata": {},
          "execution_count": 13
        }
      ]
    },
    {
      "cell_type": "markdown",
      "source": [
        "join()"
      ],
      "metadata": {
        "id": "2clHw6pIf_CZ"
      }
    },
    {
      "cell_type": "code",
      "source": [
        "o=[\"hello\",\"everyone\"]\n",
        "print(''.join(o))"
      ],
      "metadata": {
        "colab": {
          "base_uri": "https://localhost:8080/"
        },
        "id": "hh_REWxmgDKT",
        "outputId": "20a40ed7-a1e9-45aa-cd56-fc743814aa58"
      },
      "execution_count": 18,
      "outputs": [
        {
          "output_type": "stream",
          "name": "stdout",
          "text": [
            "helloeveryone\n"
          ]
        }
      ]
    },
    {
      "cell_type": "code",
      "source": [
        "word=['hello','world']\n",
        "print(''.join(word))"
      ],
      "metadata": {
        "colab": {
          "base_uri": "https://localhost:8080/"
        },
        "id": "BPVHZI5siFQq",
        "outputId": "c86b60ca-4b8f-49b4-bb89-db91d5e909b2"
      },
      "execution_count": 19,
      "outputs": [
        {
          "output_type": "stream",
          "name": "stdout",
          "text": [
            "helloworld\n"
          ]
        }
      ]
    },
    {
      "cell_type": "code",
      "source": [
        "b=['data','science']\n",
        "print(''.join(b))"
      ],
      "metadata": {
        "colab": {
          "base_uri": "https://localhost:8080/"
        },
        "id": "s1qCrIFNiaew",
        "outputId": "83b9adb7-580a-44f6-fc14-b5f998057a9f"
      },
      "execution_count": 20,
      "outputs": [
        {
          "output_type": "stream",
          "name": "stdout",
          "text": [
            "datascience\n"
          ]
        }
      ]
    },
    {
      "cell_type": "markdown",
      "source": [
        "strip()"
      ],
      "metadata": {
        "id": "Gdd02gHiixiO"
      }
    },
    {
      "cell_type": "code",
      "source": [
        "b=\"data science\"\n",
        "b.strip()"
      ],
      "metadata": {
        "colab": {
          "base_uri": "https://localhost:8080/",
          "height": 36
        },
        "id": "FnIrPZMNi4KQ",
        "outputId": "24beadb0-423d-4108-f961-774f82d7ffd5"
      },
      "execution_count": 21,
      "outputs": [
        {
          "output_type": "execute_result",
          "data": {
            "text/plain": [
              "'data science'"
            ],
            "application/vnd.google.colaboratory.intrinsic+json": {
              "type": "string"
            }
          },
          "metadata": {},
          "execution_count": 21
        }
      ]
    },
    {
      "cell_type": "code",
      "source": [
        "word=\"teks acdemy\"\n",
        "word.strip()"
      ],
      "metadata": {
        "colab": {
          "base_uri": "https://localhost:8080/",
          "height": 36
        },
        "id": "aY2Yfzq1jCDk",
        "outputId": "36a6c4d4-2d2e-4cd4-8073-06ceea3dc1c2"
      },
      "execution_count": 22,
      "outputs": [
        {
          "output_type": "execute_result",
          "data": {
            "text/plain": [
              "'teks acdemy'"
            ],
            "application/vnd.google.colaboratory.intrinsic+json": {
              "type": "string"
            }
          },
          "metadata": {},
          "execution_count": 22
        }
      ]
    }
  ]
}